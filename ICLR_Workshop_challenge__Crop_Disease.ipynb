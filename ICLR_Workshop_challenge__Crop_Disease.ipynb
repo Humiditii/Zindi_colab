{
  "nbformat": 4,
  "nbformat_minor": 0,
  "metadata": {
    "colab": {
      "name": "ICLR Workshop_challenge _Crop Disease.ipynb",
      "provenance": [],
      "collapsed_sections": [],
      "authorship_tag": "ABX9TyP1KXkP/66L4O7a7a9tyC3w",
      "include_colab_link": true
    },
    "kernelspec": {
      "name": "python3",
      "display_name": "Python 3"
    },
    "accelerator": "GPU"
  },
  "cells": [
    {
      "cell_type": "markdown",
      "metadata": {
        "id": "view-in-github",
        "colab_type": "text"
      },
      "source": [
        "<a href=\"https://colab.research.google.com/github/sayedmohamedscu/Zindi_colab/blob/master/ICLR_Workshop_challenge__Crop_Disease.ipynb\" target=\"_parent\"><img src=\"https://colab.research.google.com/assets/colab-badge.svg\" alt=\"Open In Colab\"/></a>"
      ]
    },
    {
      "cell_type": "markdown",
      "metadata": {
        "id": "38ocAJKpg69O",
        "colab_type": "text"
      },
      "source": [
        "# How to get the Dataset from Zindi to Google Colab "
      ]
    },
    {
      "cell_type": "markdown",
      "metadata": {
        "id": "weIXLOy1hRbJ",
        "colab_type": "text"
      },
      "source": [
        "**what is [Zindi](https://zindi.africa/)?**\n",
        "\n",
        "Zindi is a social enterprise whose mission is to build the data science ecosystem in Africa.\n",
        "\n",
        "Our vision is for a vibrant community of data scientists across Africa, mobilized towards solving the region’s most pressing problems."
      ]
    },
    {
      "cell_type": "code",
      "metadata": {
        "id": "e-MSCt9-nrDt",
        "colab_type": "code",
        "colab": {}
      },
      "source": [
        "import requests\n",
        "import requests, zipfile\n",
        "\n",
        "#the url and auth_value from the website \n",
        "url = 'https://api.zindi.africa/v1/competitions/iclr-workshop-challenge-1-cgiar-computer-vision-for-crop-disease/files/train.zip'\n",
        "myobj = {'auth_token': 'hgyghghghbhb'} #use your own\n",
        "\n",
        "x = requests.post(url, data = myobj,stream=True)\n",
        "target_path = 'data.zip'\n",
        "\n",
        "handle = open(target_path, \"wb\")\n",
        "for chunk in x.iter_content(chunk_size=512):\n",
        "    if chunk:  # filter out keep-alive new chunks\n",
        "        handle.write(chunk)\n",
        "handle.close()\n",
        "\n",
        "!unzip -qq /content/data.zip"
      ],
      "execution_count": 0,
      "outputs": []
    },
    {
      "cell_type": "code",
      "metadata": {
        "id": "PIhkSBron1UU",
        "colab_type": "code",
        "colab": {}
      },
      "source": [
        "import os \n",
        "num_of_training_healthy_wheat=(len(os.listdir('/content/train/healthy_wheat')))\n",
        "num_of_training_leaf_rust=(len(os.listdir('/content/train/leaf_rust')))\n",
        "num_of_training_stem_rust=(len(os.listdir('/content/train/stem_rust')))\n"
      ],
      "execution_count": 0,
      "outputs": []
    },
    {
      "cell_type": "code",
      "metadata": {
        "id": "aBZgXMkPn5cM",
        "colab_type": "code",
        "colab": {
          "base_uri": "https://localhost:8080/",
          "height": 313
        },
        "outputId": "ab8efd67-4fc8-4116-e991-f536f1fe3f26"
      },
      "source": [
        "import os\n",
        "import cv2\n",
        "import matplotlib.pyplot as plt \n",
        "\n",
        "\n",
        "print(num_of_training_healthy_wheat,num_of_training_leaf_rust,num_of_training_stem_rust)\n",
        "\n",
        "# x-coordinates of left sides of bars \n",
        "left = [1, 2,3] \n",
        "\n",
        "# heights of bars \n",
        "height = [num_of_training_healthy_wheat,num_of_training_leaf_rust,num_of_training_stem_rust] \n",
        "\n",
        "# labels for bars \n",
        "data_label = ['healthy_wheat', 'leaf_rust','stem_rust'] \n",
        "\n",
        "# plotting a bar chart \n",
        "plt.bar(left, height, tick_label = data_label, width = 0.8, color = ['red', 'green','blue']) \n",
        "\n",
        "# naming the x-axis \n",
        "plt.xlabel('x - axis') \n",
        "# naming the y-axis \n",
        "plt.ylabel('y - axis') \n",
        "# plot title \n",
        "plt.title('training data distribution') \n",
        "\n",
        "# function to show the plot \n",
        "plt.show() \n"
      ],
      "execution_count": 3,
      "outputs": [
        {
          "output_type": "stream",
          "text": [
            "142 358 376\n"
          ],
          "name": "stdout"
        },
        {
          "output_type": "display_data",
          "data": {
            "image/png": "[encoded data removed]",
            "text/plain": [
              "<Figure size 432x288 with 1 Axes>"
            ]
          },
          "metadata": {
            "tags": []
          }
        }
      ]
    },
    {
      "cell_type": "markdown",
      "metadata": {
        "id": "_RDs1TEon_j0",
        "colab_type": "text"
      },
      "source": [
        "It's an Unbalnced Dataset\n",
        "\n",
        "![alt text](https://pbs.twimg.com/media/C8_y_4EXYAArVnm.jpg)"
      ]
    },
    {
      "cell_type": "markdown",
      "metadata": {
        "id": "PEFubU0zoKkz",
        "colab_type": "text"
      },
      "source": [
        "# Unbalnced Dataset\n",
        "****\n",
        "there are ways to solve this problem\n",
        "****\n",
        "first we have to know what is the effect of this problem \n",
        "\n",
        "\n",
        "1.   biased model\n",
        "2.   over fitting \n",
        "\n",
        "to solve this problem \n",
        "we can use \n",
        "1. data augmentation\n",
        "2. delete some of the higher class \n",
        "\n"
      ]
    },
    {
      "cell_type": "markdown",
      "metadata": {
        "id": "FhRzFW04oQPr",
        "colab_type": "text"
      },
      "source": [
        "# data augmentation\n",
        "![alt text](https://i.kym-cdn.com/entries/icons/original/000/031/991/cover3.jpg)\n"
      ]
    },
    {
      "cell_type": "markdown",
      "metadata": {
        "id": "gqOJJsfzoUvM",
        "colab_type": "text"
      },
      "source": [
        "# what is the data augmentain ?\n",
        "\n",
        "it's all about make some operations to create new images which will increase the dataset and make the model robust\n",
        "\n",
        "we can do this operations with opencv , keras data generator and more \n",
        "\n",
        "[check this ](https://machinelearningmastery.com/how-to-configure-image-data-augmentation-when-training-deep-learning-neural-networks/)\n",
        "\n",
        "![alt text](https://www.researchgate.net/publication/319413978/figure/fig2/AS:533727585333249@1504261980375/Data-augmentation-using-semantic-preserving-transformation-for-SBIR.png)"
      ]
    }
  ]
}